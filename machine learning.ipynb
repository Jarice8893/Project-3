{
 "cells": [
  {
   "cell_type": "code",
   "execution_count": 2,
   "id": "cf74cbe2",
   "metadata": {},
   "outputs": [],
   "source": [
    "import pandas as pd\n",
    "import numpy as np\n",
    "import matplotlib.pyplot as plt\n",
    "import sklearn\n",
    "from sklearn import model_selection\n",
    "from sklearn import tree\n",
    "from sklearn import linear_model"
   ]
  },
  {
   "cell_type": "markdown",
   "id": "7cf0de7c",
   "metadata": {},
   "source": [
    "# Microsoft Corporation"
   ]
  },
  {
   "cell_type": "markdown",
   "id": "4447e293",
   "metadata": {},
   "source": [
    "Microsoft Corporation develops, licenses, and supports software, services, devices, and solutions worldwide. Its Productivity and Business Processes segment offers Office, Exchange, SharePoint, Microsoft Teams, Office 365 Security and Compliance, and Skype for Business, as well as related Client Access Licenses (CAL); Skype, Outlook.com, OneDrive, and LinkedIn; and Dynamics 365, a set of cloud-based and on-premises business solutions for organizations and enterprise divisions. Its Intelligent Cloud segment licenses SQL, Windows Servers, Visual Studio, System Center, and related CALs; GitHub that provides a collaboration platform and code hosting service for developers; and Azure, a cloud platform. It also offers support services and Microsoft consulting services to assist customers in developing, deploying, and managing Microsoft server and desktop solutions; and training and certification on Microsoft products. Its More Personal Computing segment provides Windows original equipment manufacturer (OEM) licensing and other non-volume licensing of the Windows operating system; Windows Commercial, such as volume licensing of the Windows operating system, Windows cloud services, and other Windows commercial offerings; patent licensing; Windows Internet of Things; and MSN advertising. It also offers Surface, PC accessories, PCs, tablets, gaming and entertainment consoles, and other devices; Gaming, including Xbox hardware, and Xbox content and services; video games and third-party video game royalties; and Search, including Bing and Microsoft advertising. It sells its products through OEMs, distributors, and resellers; and directly through digital marketplaces, online stores, and retail stores. It has collaborations with Dynatrace, Inc., Morgan Stanley, Micro Focus, WPP plc, ACI Worldwide, Inc., and iCIMS, Inc., as well as a strategic relationship with Avaya Holdings Corp. Microsoft Corporation was founded in 1975 and is headquartered in Redmond, Washington."
   ]
  },
  {
   "cell_type": "code",
   "execution_count": 27,
   "id": "67f21c2a",
   "metadata": {},
   "outputs": [
    {
     "data": {
      "text/html": [
       "<div>\n",
       "<style scoped>\n",
       "    .dataframe tbody tr th:only-of-type {\n",
       "        vertical-align: middle;\n",
       "    }\n",
       "\n",
       "    .dataframe tbody tr th {\n",
       "        vertical-align: top;\n",
       "    }\n",
       "\n",
       "    .dataframe thead th {\n",
       "        text-align: right;\n",
       "    }\n",
       "</style>\n",
       "<table border=\"1\" class=\"dataframe\">\n",
       "  <thead>\n",
       "    <tr style=\"text-align: right;\">\n",
       "      <th></th>\n",
       "      <th>Date</th>\n",
       "      <th>Open</th>\n",
       "      <th>High</th>\n",
       "      <th>Low</th>\n",
       "      <th>Close</th>\n",
       "      <th>Adj Close</th>\n",
       "      <th>Volume</th>\n",
       "    </tr>\n",
       "  </thead>\n",
       "  <tbody>\n",
       "    <tr>\n",
       "      <th>0</th>\n",
       "      <td>2017-01-03</td>\n",
       "      <td>62.790001</td>\n",
       "      <td>62.840000</td>\n",
       "      <td>62.130001</td>\n",
       "      <td>62.580002</td>\n",
       "      <td>58.291969</td>\n",
       "      <td>20694100</td>\n",
       "    </tr>\n",
       "    <tr>\n",
       "      <th>1</th>\n",
       "      <td>2017-01-04</td>\n",
       "      <td>62.480000</td>\n",
       "      <td>62.750000</td>\n",
       "      <td>62.119999</td>\n",
       "      <td>62.299999</td>\n",
       "      <td>58.031147</td>\n",
       "      <td>21340000</td>\n",
       "    </tr>\n",
       "    <tr>\n",
       "      <th>2</th>\n",
       "      <td>2017-01-05</td>\n",
       "      <td>62.189999</td>\n",
       "      <td>62.660000</td>\n",
       "      <td>62.029999</td>\n",
       "      <td>62.299999</td>\n",
       "      <td>58.031147</td>\n",
       "      <td>24876000</td>\n",
       "    </tr>\n",
       "    <tr>\n",
       "      <th>3</th>\n",
       "      <td>2017-01-06</td>\n",
       "      <td>62.299999</td>\n",
       "      <td>63.150002</td>\n",
       "      <td>62.040001</td>\n",
       "      <td>62.840000</td>\n",
       "      <td>58.534157</td>\n",
       "      <td>19922900</td>\n",
       "    </tr>\n",
       "    <tr>\n",
       "      <th>4</th>\n",
       "      <td>2017-01-09</td>\n",
       "      <td>62.759998</td>\n",
       "      <td>63.080002</td>\n",
       "      <td>62.540001</td>\n",
       "      <td>62.639999</td>\n",
       "      <td>58.347855</td>\n",
       "      <td>20382700</td>\n",
       "    </tr>\n",
       "    <tr>\n",
       "      <th>...</th>\n",
       "      <td>...</td>\n",
       "      <td>...</td>\n",
       "      <td>...</td>\n",
       "      <td>...</td>\n",
       "      <td>...</td>\n",
       "      <td>...</td>\n",
       "      <td>...</td>\n",
       "    </tr>\n",
       "    <tr>\n",
       "      <th>1162</th>\n",
       "      <td>2021-08-16</td>\n",
       "      <td>293.190002</td>\n",
       "      <td>294.820007</td>\n",
       "      <td>290.019989</td>\n",
       "      <td>294.600006</td>\n",
       "      <td>294.037109</td>\n",
       "      <td>22507600</td>\n",
       "    </tr>\n",
       "    <tr>\n",
       "      <th>1163</th>\n",
       "      <td>2021-08-17</td>\n",
       "      <td>292.390015</td>\n",
       "      <td>293.429993</td>\n",
       "      <td>291.079987</td>\n",
       "      <td>293.079987</td>\n",
       "      <td>292.519989</td>\n",
       "      <td>20075300</td>\n",
       "    </tr>\n",
       "    <tr>\n",
       "      <th>1164</th>\n",
       "      <td>2021-08-18</td>\n",
       "      <td>292.040009</td>\n",
       "      <td>294.820007</td>\n",
       "      <td>290.269989</td>\n",
       "      <td>290.730011</td>\n",
       "      <td>290.730011</td>\n",
       "      <td>21813000</td>\n",
       "    </tr>\n",
       "    <tr>\n",
       "      <th>1165</th>\n",
       "      <td>2021-08-19</td>\n",
       "      <td>288.690002</td>\n",
       "      <td>297.470001</td>\n",
       "      <td>288.640015</td>\n",
       "      <td>296.769989</td>\n",
       "      <td>296.769989</td>\n",
       "      <td>29850500</td>\n",
       "    </tr>\n",
       "    <tr>\n",
       "      <th>1166</th>\n",
       "      <td>2021-08-20</td>\n",
       "      <td>299.720001</td>\n",
       "      <td>305.839996</td>\n",
       "      <td>298.059998</td>\n",
       "      <td>304.359985</td>\n",
       "      <td>304.359985</td>\n",
       "      <td>40796100</td>\n",
       "    </tr>\n",
       "  </tbody>\n",
       "</table>\n",
       "<p>1167 rows × 7 columns</p>\n",
       "</div>"
      ],
      "text/plain": [
       "            Date        Open        High         Low       Close   Adj Close  \\\n",
       "0     2017-01-03   62.790001   62.840000   62.130001   62.580002   58.291969   \n",
       "1     2017-01-04   62.480000   62.750000   62.119999   62.299999   58.031147   \n",
       "2     2017-01-05   62.189999   62.660000   62.029999   62.299999   58.031147   \n",
       "3     2017-01-06   62.299999   63.150002   62.040001   62.840000   58.534157   \n",
       "4     2017-01-09   62.759998   63.080002   62.540001   62.639999   58.347855   \n",
       "...          ...         ...         ...         ...         ...         ...   \n",
       "1162  2021-08-16  293.190002  294.820007  290.019989  294.600006  294.037109   \n",
       "1163  2021-08-17  292.390015  293.429993  291.079987  293.079987  292.519989   \n",
       "1164  2021-08-18  292.040009  294.820007  290.269989  290.730011  290.730011   \n",
       "1165  2021-08-19  288.690002  297.470001  288.640015  296.769989  296.769989   \n",
       "1166  2021-08-20  299.720001  305.839996  298.059998  304.359985  304.359985   \n",
       "\n",
       "        Volume  \n",
       "0     20694100  \n",
       "1     21340000  \n",
       "2     24876000  \n",
       "3     19922900  \n",
       "4     20382700  \n",
       "...        ...  \n",
       "1162  22507600  \n",
       "1163  20075300  \n",
       "1164  21813000  \n",
       "1165  29850500  \n",
       "1166  40796100  \n",
       "\n",
       "[1167 rows x 7 columns]"
      ]
     },
     "execution_count": 27,
     "metadata": {},
     "output_type": "execute_result"
    }
   ],
   "source": [
    "msft = pd.read_csv('C:/Users/steve/Documents/bootcamp/nu-chi-data-pt-04-2021-u-c/01-Curriculum/msft_stock.csv')\n",
    "msft"
   ]
  },
  {
   "cell_type": "code",
   "execution_count": 3,
   "id": "9ea93c3a",
   "metadata": {},
   "outputs": [],
   "source": [
    "msft = msft[['Date', 'Close']]"
   ]
  },
  {
   "cell_type": "code",
   "execution_count": 4,
   "id": "2a728333",
   "metadata": {},
   "outputs": [],
   "source": [
    "new_msft = msft.loc[884:1167]"
   ]
  },
  {
   "cell_type": "code",
   "execution_count": 9,
   "id": "b985fc85",
   "metadata": {},
   "outputs": [
    {
     "data": {
      "text/plain": [
       "(1167, 2)"
      ]
     },
     "execution_count": 9,
     "metadata": {},
     "output_type": "execute_result"
    }
   ],
   "source": [
    "msft.shape"
   ]
  },
  {
   "cell_type": "code",
   "execution_count": 17,
   "id": "c2c8e431",
   "metadata": {},
   "outputs": [
    {
     "data": {
      "image/png": "[encoded data removed]",
      "text/plain": [
       "<Figure size 1152x576 with 1 Axes>"
      ]
     },
     "metadata": {
      "needs_background": "light"
     },
     "output_type": "display_data"
    }
   ],
   "source": [
    "plt.figure(figsize =(16,8))\n",
    "plt.title('MSFT')\n",
    "plt.xlabel('Days')\n",
    "plt.ylabel('close prie USD($)')\n",
    "plt.plot(msft['Close'])\n",
    "plt.show()"
   ]
  },
  {
   "cell_type": "code",
   "execution_count": 18,
   "id": "f7724628",
   "metadata": {},
   "outputs": [],
   "source": [
    "close_price = msft[['Close']]"
   ]
  },
  {
   "cell_type": "code",
   "execution_count": 19,
   "id": "d503f8b6",
   "metadata": {},
   "outputs": [
    {
     "data": {
      "text/html": [
       "<div>\n",
       "<style scoped>\n",
       "    .dataframe tbody tr th:only-of-type {\n",
       "        vertical-align: middle;\n",
       "    }\n",
       "\n",
       "    .dataframe tbody tr th {\n",
       "        vertical-align: top;\n",
       "    }\n",
       "\n",
       "    .dataframe thead th {\n",
       "        text-align: right;\n",
       "    }\n",
       "</style>\n",
       "<table border=\"1\" class=\"dataframe\">\n",
       "  <thead>\n",
       "    <tr style=\"text-align: right;\">\n",
       "      <th></th>\n",
       "      <th>Close</th>\n",
       "    </tr>\n",
       "  </thead>\n",
       "  <tbody>\n",
       "    <tr>\n",
       "      <th>0</th>\n",
       "      <td>62.580002</td>\n",
       "    </tr>\n",
       "    <tr>\n",
       "      <th>1</th>\n",
       "      <td>62.299999</td>\n",
       "    </tr>\n",
       "    <tr>\n",
       "      <th>2</th>\n",
       "      <td>62.299999</td>\n",
       "    </tr>\n",
       "    <tr>\n",
       "      <th>3</th>\n",
       "      <td>62.840000</td>\n",
       "    </tr>\n",
       "    <tr>\n",
       "      <th>4</th>\n",
       "      <td>62.639999</td>\n",
       "    </tr>\n",
       "    <tr>\n",
       "      <th>...</th>\n",
       "      <td>...</td>\n",
       "    </tr>\n",
       "    <tr>\n",
       "      <th>1162</th>\n",
       "      <td>294.600006</td>\n",
       "    </tr>\n",
       "    <tr>\n",
       "      <th>1163</th>\n",
       "      <td>293.079987</td>\n",
       "    </tr>\n",
       "    <tr>\n",
       "      <th>1164</th>\n",
       "      <td>290.730011</td>\n",
       "    </tr>\n",
       "    <tr>\n",
       "      <th>1165</th>\n",
       "      <td>296.769989</td>\n",
       "    </tr>\n",
       "    <tr>\n",
       "      <th>1166</th>\n",
       "      <td>304.359985</td>\n",
       "    </tr>\n",
       "  </tbody>\n",
       "</table>\n",
       "<p>1167 rows × 1 columns</p>\n",
       "</div>"
      ],
      "text/plain": [
       "           Close\n",
       "0      62.580002\n",
       "1      62.299999\n",
       "2      62.299999\n",
       "3      62.840000\n",
       "4      62.639999\n",
       "...          ...\n",
       "1162  294.600006\n",
       "1163  293.079987\n",
       "1164  290.730011\n",
       "1165  296.769989\n",
       "1166  304.359985\n",
       "\n",
       "[1167 rows x 1 columns]"
      ]
     },
     "execution_count": 19,
     "metadata": {},
     "output_type": "execute_result"
    }
   ],
   "source": [
    "close_price"
   ]
  },
  {
   "cell_type": "code",
   "execution_count": 20,
   "id": "c1f67a1b",
   "metadata": {},
   "outputs": [],
   "source": [
    "future_days = 30\n",
    "\n",
    "close_price['prediction'] = close_price[['Close']].shift(-future_days)"
   ]
  },
  {
   "cell_type": "code",
   "execution_count": 21,
   "id": "729e8241",
   "metadata": {},
   "outputs": [
    {
     "data": {
      "text/html": [
       "<div>\n",
       "<style scoped>\n",
       "    .dataframe tbody tr th:only-of-type {\n",
       "        vertical-align: middle;\n",
       "    }\n",
       "\n",
       "    .dataframe tbody tr th {\n",
       "        vertical-align: top;\n",
       "    }\n",
       "\n",
       "    .dataframe thead th {\n",
       "        text-align: right;\n",
       "    }\n",
       "</style>\n",
       "<table border=\"1\" class=\"dataframe\">\n",
       "  <thead>\n",
       "    <tr style=\"text-align: right;\">\n",
       "      <th></th>\n",
       "      <th>Close</th>\n",
       "      <th>prediction</th>\n",
       "    </tr>\n",
       "  </thead>\n",
       "  <tbody>\n",
       "    <tr>\n",
       "      <th>0</th>\n",
       "      <td>62.580002</td>\n",
       "      <td>64.529999</td>\n",
       "    </tr>\n",
       "    <tr>\n",
       "      <th>1</th>\n",
       "      <td>62.299999</td>\n",
       "      <td>64.519997</td>\n",
       "    </tr>\n",
       "    <tr>\n",
       "      <th>2</th>\n",
       "      <td>62.299999</td>\n",
       "      <td>64.620003</td>\n",
       "    </tr>\n",
       "    <tr>\n",
       "      <th>3</th>\n",
       "      <td>62.840000</td>\n",
       "      <td>64.489998</td>\n",
       "    </tr>\n",
       "    <tr>\n",
       "      <th>4</th>\n",
       "      <td>62.639999</td>\n",
       "      <td>64.360001</td>\n",
       "    </tr>\n",
       "    <tr>\n",
       "      <th>...</th>\n",
       "      <td>...</td>\n",
       "      <td>...</td>\n",
       "    </tr>\n",
       "    <tr>\n",
       "      <th>1162</th>\n",
       "      <td>294.600006</td>\n",
       "      <td>NaN</td>\n",
       "    </tr>\n",
       "    <tr>\n",
       "      <th>1163</th>\n",
       "      <td>293.079987</td>\n",
       "      <td>NaN</td>\n",
       "    </tr>\n",
       "    <tr>\n",
       "      <th>1164</th>\n",
       "      <td>290.730011</td>\n",
       "      <td>NaN</td>\n",
       "    </tr>\n",
       "    <tr>\n",
       "      <th>1165</th>\n",
       "      <td>296.769989</td>\n",
       "      <td>NaN</td>\n",
       "    </tr>\n",
       "    <tr>\n",
       "      <th>1166</th>\n",
       "      <td>304.359985</td>\n",
       "      <td>NaN</td>\n",
       "    </tr>\n",
       "  </tbody>\n",
       "</table>\n",
       "<p>1167 rows × 2 columns</p>\n",
       "</div>"
      ],
      "text/plain": [
       "           Close  prediction\n",
       "0      62.580002   64.529999\n",
       "1      62.299999   64.519997\n",
       "2      62.299999   64.620003\n",
       "3      62.840000   64.489998\n",
       "4      62.639999   64.360001\n",
       "...          ...         ...\n",
       "1162  294.600006         NaN\n",
       "1163  293.079987         NaN\n",
       "1164  290.730011         NaN\n",
       "1165  296.769989         NaN\n",
       "1166  304.359985         NaN\n",
       "\n",
       "[1167 rows x 2 columns]"
      ]
     },
     "execution_count": 21,
     "metadata": {},
     "output_type": "execute_result"
    }
   ],
   "source": [
    "close_price"
   ]
  },
  {
   "cell_type": "code",
   "execution_count": 29,
   "id": "f4d5ca5c",
   "metadata": {},
   "outputs": [
    {
     "name": "stderr",
     "output_type": "stream",
     "text": [
      "C:\\Users\\steve\\AppData\\Local\\Temp/ipykernel_23680/1274731598.py:1: FutureWarning: In a future version of pandas all arguments of DataFrame.drop except for the argument 'labels' will be keyword-only\n",
      "  X= np.array(close_price.drop(['prediction'],1))[:-future_days]\n"
     ]
    }
   ],
   "source": [
    "X= np.array(close_price.drop(['prediction'],1))[:-future_days]"
   ]
  },
  {
   "cell_type": "code",
   "execution_count": 30,
   "id": "9cced637",
   "metadata": {},
   "outputs": [
    {
     "name": "stdout",
     "output_type": "stream",
     "text": [
      "[[ 62.58000183]\n",
      " [ 62.29999924]\n",
      " [ 62.29999924]\n",
      " ...\n",
      " [279.92999268]\n",
      " [277.42001343]\n",
      " [277.94000244]]\n"
     ]
    }
   ],
   "source": [
    "print(x)"
   ]
  },
  {
   "cell_type": "code",
   "execution_count": 31,
   "id": "42cb5310",
   "metadata": {},
   "outputs": [],
   "source": [
    "y= np.array(close_price['prediction'])[:-future_days]"
   ]
  },
  {
   "cell_type": "code",
   "execution_count": 32,
   "id": "74ff82b4",
   "metadata": {},
   "outputs": [
    {
     "name": "stdout",
     "output_type": "stream",
     "text": [
      "[ 64.52999878  64.51999664  64.62000275 ... 290.73001099 296.76998901\n",
      " 304.35998535]\n"
     ]
    }
   ],
   "source": [
    "print(y)"
   ]
  },
  {
   "cell_type": "code",
   "execution_count": 39,
   "id": "de2fa9d5",
   "metadata": {},
   "outputs": [],
   "source": [
    "#split the data into 75% training and 25% testing \n",
    "x_train, x_test, y_train, y_test = sklearn.model_selection.train_test_split(X, y, test_size=25)"
   ]
  },
  {
   "cell_type": "code",
   "execution_count": 48,
   "id": "4b5e2742",
   "metadata": {},
   "outputs": [],
   "source": [
    "#create the models\n",
    "#create the decision tree regressor model\n",
    "tree = sklearn.tree.DecisionTreeRegressor().fit(x_train, y_train)"
   ]
  },
  {
   "cell_type": "code",
   "execution_count": 49,
   "id": "68512822",
   "metadata": {},
   "outputs": [],
   "source": [
    "#linear regression model\n",
    "lr = sklearn.linear_model.LinearRegression().fit(x_train, y_train)"
   ]
  },
  {
   "cell_type": "code",
   "execution_count": 52,
   "id": "afb99d72",
   "metadata": {},
   "outputs": [
    {
     "name": "stderr",
     "output_type": "stream",
     "text": [
      "C:\\Users\\steve\\AppData\\Local\\Temp/ipykernel_23680/4106418182.py:1: FutureWarning: In a future version of pandas all arguments of DataFrame.drop except for the argument 'labels' will be keyword-only\n",
      "  x_future = close_price.drop(['prediction'], 1)[:-future_days]\n"
     ]
    }
   ],
   "source": [
    "x_future = close_price.drop(['prediction'], 1)[:-future_days]"
   ]
  },
  {
   "cell_type": "code",
   "execution_count": 53,
   "id": "36b81fa4",
   "metadata": {},
   "outputs": [],
   "source": [
    "x_future = x_future.tail(future_days)"
   ]
  },
  {
   "cell_type": "code",
   "execution_count": 54,
   "id": "f5d956d8",
   "metadata": {},
   "outputs": [
    {
     "data": {
      "text/plain": [
       "array([[249.30999756],\n",
       "       [249.67999268],\n",
       "       [247.3999939 ],\n",
       "       [247.30000305],\n",
       "       [245.71000671],\n",
       "       [250.78999329],\n",
       "       [253.80999756],\n",
       "       [252.57000732],\n",
       "       [253.58999634],\n",
       "       [257.23999023],\n",
       "       [257.89001465],\n",
       "       [259.89001465],\n",
       "       [258.35998535],\n",
       "       [257.38000488],\n",
       "       [260.8999939 ],\n",
       "       [259.42999268],\n",
       "       [262.63000488],\n",
       "       [265.51000977],\n",
       "       [265.26998901],\n",
       "       [266.69000244],\n",
       "       [265.01998901],\n",
       "       [268.72000122],\n",
       "       [271.3999939 ],\n",
       "       [270.8999939 ],\n",
       "       [271.6000061 ],\n",
       "       [277.6499939 ],\n",
       "       [277.66000366],\n",
       "       [279.92999268],\n",
       "       [277.42001343],\n",
       "       [277.94000244]])"
      ]
     },
     "execution_count": 54,
     "metadata": {},
     "output_type": "execute_result"
    }
   ],
   "source": [
    "x_future = np.array(x_future)\n",
    "x_future"
   ]
  },
  {
   "cell_type": "code",
   "execution_count": 55,
   "id": "96ac4f43",
   "metadata": {},
   "outputs": [],
   "source": [
    "#show the model tree prediction\n",
    "tree_prediction = tree.predict(x_future)"
   ]
  },
  {
   "cell_type": "code",
   "execution_count": 57,
   "id": "a7b9856e",
   "metadata": {},
   "outputs": [
    {
     "name": "stdout",
     "output_type": "stream",
     "text": [
      "[277.32000732 280.98001099 282.51000977 281.02999878 280.75\n",
      " 277.01000977 279.32000732 281.3999939  286.14001465 250.78999329\n",
      " 289.04998779 286.54000854 286.22000122 286.5        284.91000366\n",
      " 284.82000732 287.11999512 289.51998901 289.51998901 289.45999146\n",
      " 288.32998657 286.44000244 286.95001221 289.80999756 292.8500061\n",
      " 294.6000061  293.07998657 290.73001099 296.76998901 304.35998535]\n"
     ]
    }
   ],
   "source": [
    "print(tree_prediction)"
   ]
  },
  {
   "cell_type": "code",
   "execution_count": 58,
   "id": "7408cf30",
   "metadata": {},
   "outputs": [],
   "source": [
    "#show model linear regression predciton\n",
    "lr_prediction = lr.predict(x_future)"
   ]
  },
  {
   "cell_type": "code",
   "execution_count": 59,
   "id": "bfbf902f",
   "metadata": {},
   "outputs": [
    {
     "data": {
      "text/plain": [
       "array([260.11656318, 260.50267023, 258.12338582, 258.01904074,\n",
       "       256.35980585, 261.66100732, 264.81252177, 263.51853448,\n",
       "       264.5829403 , 268.39187813, 269.07020873, 271.15730144,\n",
       "       269.56064495, 268.5379899 , 272.21126161, 270.67724719,\n",
       "       274.01660827, 277.02202686, 276.77155408, 278.25340392,\n",
       "       276.51066749, 280.37180174, 283.16849833, 282.64672515,\n",
       "       283.37722034, 289.69066305, 289.7011087 , 292.06994746,\n",
       "       289.45066777, 289.99330041])"
      ]
     },
     "execution_count": 59,
     "metadata": {},
     "output_type": "execute_result"
    }
   ],
   "source": [
    "lr_prediction "
   ]
  },
  {
   "cell_type": "code",
   "execution_count": 61,
   "id": "2481bd17",
   "metadata": {},
   "outputs": [],
   "source": [
    "#visualized the data\n",
    "predictions = tree_prediction \n",
    "valid = close_price[X.shape[0]:]"
   ]
  },
  {
   "cell_type": "code",
   "execution_count": 68,
   "id": "84cc1469",
   "metadata": {},
   "outputs": [
    {
     "name": "stderr",
     "output_type": "stream",
     "text": [
      "C:\\Users\\steve\\AppData\\Local\\Temp/ipykernel_23680/4170329595.py:1: SettingWithCopyWarning: \n",
      "A value is trying to be set on a copy of a slice from a DataFrame.\n",
      "Try using .loc[row_indexer,col_indexer] = value instead\n",
      "\n",
      "See the caveats in the documentation: https://pandas.pydata.org/pandas-docs/stable/user_guide/indexing.html#returning-a-view-versus-a-copy\n",
      "  valid['prediction'] = predictions\n"
     ]
    },
    {
     "data": {
      "image/png": "[encoded data removed]",
      "text/plain": [
       "<Figure size 1152x576 with 1 Axes>"
      ]
     },
     "metadata": {
      "needs_background": "light"
     },
     "output_type": "display_data"
    }
   ],
   "source": [
    "valid['prediction'] = predictions \n",
    "plt.figure(figsize=(16,8))\n",
    "plt.title('model')\n",
    "plt.xlabel('Days')\n",
    "plt.ylabel('close price USD')\n",
    "plt.plot(close_price['Close'])\n",
    "plt.plot(valid[['Close','prediction']])\n",
    "plt.legend(['Orig','Val','Pred'])\n",
    "plt.show()"
   ]
  },
  {
   "cell_type": "code",
   "execution_count": 71,
   "id": "5325b280",
   "metadata": {},
   "outputs": [
    {
     "name": "stderr",
     "output_type": "stream",
     "text": [
      "C:\\Users\\steve\\AppData\\Local\\Temp/ipykernel_23680/4052443177.py:3: SettingWithCopyWarning: \n",
      "A value is trying to be set on a copy of a slice from a DataFrame.\n",
      "Try using .loc[row_indexer,col_indexer] = value instead\n",
      "\n",
      "See the caveats in the documentation: https://pandas.pydata.org/pandas-docs/stable/user_guide/indexing.html#returning-a-view-versus-a-copy\n",
      "  valid['prediction'] = predictions\n"
     ]
    },
    {
     "data": {
      "image/png": "[encoded data removed]",
      "text/plain": [
       "<Figure size 1152x576 with 1 Axes>"
      ]
     },
     "metadata": {
      "needs_background": "light"
     },
     "output_type": "display_data"
    }
   ],
   "source": [
    "predictions = lr_prediction \n",
    "valid = close_price[X.shape[0]:]\n",
    "valid['prediction'] = predictions \n",
    "plt.figure(figsize=(16,8))\n",
    "plt.title('model')\n",
    "plt.xlabel('Days')\n",
    "plt.ylabel('close price USD')\n",
    "plt.plot(close_price['Close'])\n",
    "plt.plot(valid[['Close','prediction']])\n",
    "plt.legend(['Orig','Val','Pred'])\n",
    "plt.show()"
   ]
  },
  {
   "cell_type": "markdown",
   "id": "2e4b70cf",
   "metadata": {},
   "source": [
    "# Antero Resources "
   ]
  },
  {
   "cell_type": "markdown",
   "id": "d176a815",
   "metadata": {},
   "source": [
    "'Antero Resources Corporation, an independent oil and natural gas company, acquires, explores for, develops, and produces natural gas, natural gas liquids, and oil properties in the United States. As of December 31, 2019, the company had approximately 451,000 net acres in the southwestern core of the Marcellus Shale; and 91,000 net acres in the core of the Utica Shale. It also owned and operated 324 miles of gas gathering pipelines in the Marcellus Shale; 17 compressor stations in the Marcellus Shale; 110 miles of low-pressure and high-pressure gathering pipelines in the Utica Shale; 8 miles of high-pressure pipelines; and 2 compressor stations in the Utica Shale. The company had estimated proved reserves of 18.9 trillion cubic feet of natural gas equivalent, including 11.5 trillion cubic feet of natural gas; 652 million barrels of assumed recovered ethane; 540 million barrels of primarily propane, isobutane, normal butane, and natural gasoline; and 42 million barrels of oil. The company was formerly known as Antero Resources Appalachian Corporation and changed its name to Antero Resources Corporation in June 2013. Antero Resources Corporation was founded in 2002 and is headquartered in Denver, Colorado.'"
   ]
  },
  {
   "cell_type": "code",
   "execution_count": 28,
   "id": "567720b8",
   "metadata": {},
   "outputs": [
    {
     "data": {
      "text/html": [
       "<div>\n",
       "<style scoped>\n",
       "    .dataframe tbody tr th:only-of-type {\n",
       "        vertical-align: middle;\n",
       "    }\n",
       "\n",
       "    .dataframe tbody tr th {\n",
       "        vertical-align: top;\n",
       "    }\n",
       "\n",
       "    .dataframe thead th {\n",
       "        text-align: right;\n",
       "    }\n",
       "</style>\n",
       "<table border=\"1\" class=\"dataframe\">\n",
       "  <thead>\n",
       "    <tr style=\"text-align: right;\">\n",
       "      <th></th>\n",
       "      <th>Date</th>\n",
       "      <th>Open</th>\n",
       "      <th>High</th>\n",
       "      <th>Low</th>\n",
       "      <th>Close</th>\n",
       "      <th>Adj Close</th>\n",
       "      <th>Volume</th>\n",
       "    </tr>\n",
       "  </thead>\n",
       "  <tbody>\n",
       "    <tr>\n",
       "      <th>0</th>\n",
       "      <td>2017-01-03</td>\n",
       "      <td>23.889999</td>\n",
       "      <td>24.580000</td>\n",
       "      <td>23.070000</td>\n",
       "      <td>23.680000</td>\n",
       "      <td>23.680000</td>\n",
       "      <td>6148400</td>\n",
       "    </tr>\n",
       "    <tr>\n",
       "      <th>1</th>\n",
       "      <td>2017-01-04</td>\n",
       "      <td>23.709999</td>\n",
       "      <td>24.730000</td>\n",
       "      <td>23.650000</td>\n",
       "      <td>24.629999</td>\n",
       "      <td>24.629999</td>\n",
       "      <td>4054600</td>\n",
       "    </tr>\n",
       "    <tr>\n",
       "      <th>2</th>\n",
       "      <td>2017-01-05</td>\n",
       "      <td>24.629999</td>\n",
       "      <td>25.180000</td>\n",
       "      <td>24.280001</td>\n",
       "      <td>24.889999</td>\n",
       "      <td>24.889999</td>\n",
       "      <td>4756200</td>\n",
       "    </tr>\n",
       "    <tr>\n",
       "      <th>3</th>\n",
       "      <td>2017-01-06</td>\n",
       "      <td>25.049999</td>\n",
       "      <td>25.200001</td>\n",
       "      <td>24.520000</td>\n",
       "      <td>24.680000</td>\n",
       "      <td>24.680000</td>\n",
       "      <td>2689100</td>\n",
       "    </tr>\n",
       "    <tr>\n",
       "      <th>4</th>\n",
       "      <td>2017-01-09</td>\n",
       "      <td>24.410000</td>\n",
       "      <td>24.660000</td>\n",
       "      <td>24.090000</td>\n",
       "      <td>24.120001</td>\n",
       "      <td>24.120001</td>\n",
       "      <td>2450100</td>\n",
       "    </tr>\n",
       "    <tr>\n",
       "      <th>...</th>\n",
       "      <td>...</td>\n",
       "      <td>...</td>\n",
       "      <td>...</td>\n",
       "      <td>...</td>\n",
       "      <td>...</td>\n",
       "      <td>...</td>\n",
       "      <td>...</td>\n",
       "    </tr>\n",
       "    <tr>\n",
       "      <th>1162</th>\n",
       "      <td>2021-08-16</td>\n",
       "      <td>12.500000</td>\n",
       "      <td>12.810000</td>\n",
       "      <td>12.160000</td>\n",
       "      <td>12.570000</td>\n",
       "      <td>12.570000</td>\n",
       "      <td>5752500</td>\n",
       "    </tr>\n",
       "    <tr>\n",
       "      <th>1163</th>\n",
       "      <td>2021-08-17</td>\n",
       "      <td>12.470000</td>\n",
       "      <td>12.950000</td>\n",
       "      <td>12.360000</td>\n",
       "      <td>12.680000</td>\n",
       "      <td>12.680000</td>\n",
       "      <td>5576400</td>\n",
       "    </tr>\n",
       "    <tr>\n",
       "      <th>1164</th>\n",
       "      <td>2021-08-18</td>\n",
       "      <td>12.640000</td>\n",
       "      <td>12.850000</td>\n",
       "      <td>11.890000</td>\n",
       "      <td>11.990000</td>\n",
       "      <td>11.990000</td>\n",
       "      <td>7881600</td>\n",
       "    </tr>\n",
       "    <tr>\n",
       "      <th>1165</th>\n",
       "      <td>2021-08-19</td>\n",
       "      <td>11.710000</td>\n",
       "      <td>11.870000</td>\n",
       "      <td>10.910000</td>\n",
       "      <td>11.380000</td>\n",
       "      <td>11.380000</td>\n",
       "      <td>11457100</td>\n",
       "    </tr>\n",
       "    <tr>\n",
       "      <th>1166</th>\n",
       "      <td>2021-08-20</td>\n",
       "      <td>11.330000</td>\n",
       "      <td>11.670000</td>\n",
       "      <td>11.190000</td>\n",
       "      <td>11.620000</td>\n",
       "      <td>11.620000</td>\n",
       "      <td>7812600</td>\n",
       "    </tr>\n",
       "  </tbody>\n",
       "</table>\n",
       "<p>1167 rows × 7 columns</p>\n",
       "</div>"
      ],
      "text/plain": [
       "            Date       Open       High        Low      Close  Adj Close  \\\n",
       "0     2017-01-03  23.889999  24.580000  23.070000  23.680000  23.680000   \n",
       "1     2017-01-04  23.709999  24.730000  23.650000  24.629999  24.629999   \n",
       "2     2017-01-05  24.629999  25.180000  24.280001  24.889999  24.889999   \n",
       "3     2017-01-06  25.049999  25.200001  24.520000  24.680000  24.680000   \n",
       "4     2017-01-09  24.410000  24.660000  24.090000  24.120001  24.120001   \n",
       "...          ...        ...        ...        ...        ...        ...   \n",
       "1162  2021-08-16  12.500000  12.810000  12.160000  12.570000  12.570000   \n",
       "1163  2021-08-17  12.470000  12.950000  12.360000  12.680000  12.680000   \n",
       "1164  2021-08-18  12.640000  12.850000  11.890000  11.990000  11.990000   \n",
       "1165  2021-08-19  11.710000  11.870000  10.910000  11.380000  11.380000   \n",
       "1166  2021-08-20  11.330000  11.670000  11.190000  11.620000  11.620000   \n",
       "\n",
       "        Volume  \n",
       "0      6148400  \n",
       "1      4054600  \n",
       "2      4756200  \n",
       "3      2689100  \n",
       "4      2450100  \n",
       "...        ...  \n",
       "1162   5752500  \n",
       "1163   5576400  \n",
       "1164   7881600  \n",
       "1165  11457100  \n",
       "1166   7812600  \n",
       "\n",
       "[1167 rows x 7 columns]"
      ]
     },
     "execution_count": 28,
     "metadata": {},
     "output_type": "execute_result"
    }
   ],
   "source": [
    "AR = pd.read_csv('C:/Users/steve/Documents/bootcamp/nu-chi-data-pt-04-2021-u-c/01-Curriculum/AR_stock.csv')\n",
    "AR"
   ]
  },
  {
   "cell_type": "code",
   "execution_count": 5,
   "id": "b32f7526",
   "metadata": {},
   "outputs": [],
   "source": [
    "AR = AR[['Date', 'Close']]"
   ]
  },
  {
   "cell_type": "code",
   "execution_count": 6,
   "id": "a9f89cb5",
   "metadata": {},
   "outputs": [],
   "source": [
    "new_AR = AR.loc[884:1167]"
   ]
  },
  {
   "cell_type": "code",
   "execution_count": 7,
   "id": "dffead88",
   "metadata": {},
   "outputs": [
    {
     "data": {
      "text/plain": [
       "(1167, 2)"
      ]
     },
     "execution_count": 7,
     "metadata": {},
     "output_type": "execute_result"
    }
   ],
   "source": [
    "AR.shape"
   ]
  },
  {
   "cell_type": "code",
   "execution_count": 9,
   "id": "9b2328a3",
   "metadata": {},
   "outputs": [
    {
     "data": {
      "image/png": "[encoded data removed]",
      "text/plain": [
       "<Figure size 1152x576 with 1 Axes>"
      ]
     },
     "metadata": {
      "needs_background": "light"
     },
     "output_type": "display_data"
    }
   ],
   "source": [
    "plt.figure(figsize =(16,8))\n",
    "plt.title('AR')\n",
    "plt.xlabel('Days')\n",
    "plt.ylabel('close prie USD($)')\n",
    "plt.plot(AR['Close'])\n",
    "plt.show()"
   ]
  },
  {
   "cell_type": "code",
   "execution_count": 11,
   "id": "e987d6ec",
   "metadata": {},
   "outputs": [
    {
     "data": {
      "text/html": [
       "<div>\n",
       "<style scoped>\n",
       "    .dataframe tbody tr th:only-of-type {\n",
       "        vertical-align: middle;\n",
       "    }\n",
       "\n",
       "    .dataframe tbody tr th {\n",
       "        vertical-align: top;\n",
       "    }\n",
       "\n",
       "    .dataframe thead th {\n",
       "        text-align: right;\n",
       "    }\n",
       "</style>\n",
       "<table border=\"1\" class=\"dataframe\">\n",
       "  <thead>\n",
       "    <tr style=\"text-align: right;\">\n",
       "      <th></th>\n",
       "      <th>Close</th>\n",
       "    </tr>\n",
       "  </thead>\n",
       "  <tbody>\n",
       "    <tr>\n",
       "      <th>0</th>\n",
       "      <td>23.680000</td>\n",
       "    </tr>\n",
       "    <tr>\n",
       "      <th>1</th>\n",
       "      <td>24.629999</td>\n",
       "    </tr>\n",
       "    <tr>\n",
       "      <th>2</th>\n",
       "      <td>24.889999</td>\n",
       "    </tr>\n",
       "    <tr>\n",
       "      <th>3</th>\n",
       "      <td>24.680000</td>\n",
       "    </tr>\n",
       "    <tr>\n",
       "      <th>4</th>\n",
       "      <td>24.120001</td>\n",
       "    </tr>\n",
       "    <tr>\n",
       "      <th>...</th>\n",
       "      <td>...</td>\n",
       "    </tr>\n",
       "    <tr>\n",
       "      <th>1162</th>\n",
       "      <td>12.570000</td>\n",
       "    </tr>\n",
       "    <tr>\n",
       "      <th>1163</th>\n",
       "      <td>12.680000</td>\n",
       "    </tr>\n",
       "    <tr>\n",
       "      <th>1164</th>\n",
       "      <td>11.990000</td>\n",
       "    </tr>\n",
       "    <tr>\n",
       "      <th>1165</th>\n",
       "      <td>11.380000</td>\n",
       "    </tr>\n",
       "    <tr>\n",
       "      <th>1166</th>\n",
       "      <td>11.620000</td>\n",
       "    </tr>\n",
       "  </tbody>\n",
       "</table>\n",
       "<p>1167 rows × 1 columns</p>\n",
       "</div>"
      ],
      "text/plain": [
       "          Close\n",
       "0     23.680000\n",
       "1     24.629999\n",
       "2     24.889999\n",
       "3     24.680000\n",
       "4     24.120001\n",
       "...         ...\n",
       "1162  12.570000\n",
       "1163  12.680000\n",
       "1164  11.990000\n",
       "1165  11.380000\n",
       "1166  11.620000\n",
       "\n",
       "[1167 rows x 1 columns]"
      ]
     },
     "execution_count": 11,
     "metadata": {},
     "output_type": "execute_result"
    }
   ],
   "source": [
    "close_price = AR[['Close']]\n",
    "close_price"
   ]
  },
  {
   "cell_type": "code",
   "execution_count": 12,
   "id": "74e94ce4",
   "metadata": {},
   "outputs": [],
   "source": [
    "future_days = 30\n",
    "\n",
    "close_price['prediction'] = close_price[['Close']].shift(-future_days)"
   ]
  },
  {
   "cell_type": "code",
   "execution_count": 13,
   "id": "fa181940",
   "metadata": {},
   "outputs": [
    {
     "name": "stderr",
     "output_type": "stream",
     "text": [
      "C:\\Users\\steve\\AppData\\Local\\Temp/ipykernel_22344/1274731598.py:1: FutureWarning: In a future version of pandas all arguments of DataFrame.drop except for the argument 'labels' will be keyword-only\n",
      "  X= np.array(close_price.drop(['prediction'],1))[:-future_days]\n"
     ]
    }
   ],
   "source": [
    "X= np.array(close_price.drop(['prediction'],1))[:-future_days]"
   ]
  },
  {
   "cell_type": "code",
   "execution_count": 14,
   "id": "914dc9b2",
   "metadata": {},
   "outputs": [],
   "source": [
    "y= np.array(close_price['prediction'])[:-future_days]"
   ]
  },
  {
   "cell_type": "code",
   "execution_count": 15,
   "id": "2eb09289",
   "metadata": {},
   "outputs": [],
   "source": [
    "x_train, x_test, y_train, y_test = sklearn.model_selection.train_test_split(X, y, test_size=25)"
   ]
  },
  {
   "cell_type": "code",
   "execution_count": 30,
   "id": "c8d48432",
   "metadata": {},
   "outputs": [
    {
     "name": "stdout",
     "output_type": "stream",
     "text": [
      "DecisionTreeRegressor()\n"
     ]
    }
   ],
   "source": [
    "tree = sklearn.tree.DecisionTreeRegressor().fit(x_train, y_train)\n",
    "print(tree)\n"
   ]
  },
  {
   "cell_type": "code",
   "execution_count": 31,
   "id": "105f1387",
   "metadata": {},
   "outputs": [
    {
     "data": {
      "text/plain": [
       "LinearRegression()"
      ]
     },
     "execution_count": 31,
     "metadata": {},
     "output_type": "execute_result"
    }
   ],
   "source": [
    "lr = sklearn.linear_model.LinearRegression().fit(x_train, y_train)\n",
    "lr"
   ]
  },
  {
   "cell_type": "code",
   "execution_count": 18,
   "id": "9615a92f",
   "metadata": {},
   "outputs": [
    {
     "name": "stderr",
     "output_type": "stream",
     "text": [
      "C:\\Users\\steve\\AppData\\Local\\Temp/ipykernel_22344/4106418182.py:1: FutureWarning: In a future version of pandas all arguments of DataFrame.drop except for the argument 'labels' will be keyword-only\n",
      "  x_future = close_price.drop(['prediction'], 1)[:-future_days]\n"
     ]
    }
   ],
   "source": [
    "x_future = close_price.drop(['prediction'], 1)[:-future_days]"
   ]
  },
  {
   "cell_type": "code",
   "execution_count": 19,
   "id": "94892f30",
   "metadata": {},
   "outputs": [],
   "source": [
    "x_future = x_future.tail(future_days)"
   ]
  },
  {
   "cell_type": "code",
   "execution_count": 20,
   "id": "a64edfc5",
   "metadata": {},
   "outputs": [
    {
     "data": {
      "text/plain": [
       "array([[12.92000008],\n",
       "       [12.90999985],\n",
       "       [13.44999981],\n",
       "       [13.01000023],\n",
       "       [13.06000042],\n",
       "       [13.03999996],\n",
       "       [13.47000027],\n",
       "       [13.61999989],\n",
       "       [13.73999977],\n",
       "       [13.30000019],\n",
       "       [14.10000038],\n",
       "       [13.73999977],\n",
       "       [13.84000015],\n",
       "       [13.93000031],\n",
       "       [13.13000011],\n",
       "       [13.21000004],\n",
       "       [13.72000027],\n",
       "       [13.80000019],\n",
       "       [14.14000034],\n",
       "       [14.68000031],\n",
       "       [15.06000042],\n",
       "       [14.48999977],\n",
       "       [14.68000031],\n",
       "       [15.02999973],\n",
       "       [15.06000042],\n",
       "       [14.63000011],\n",
       "       [14.13000011],\n",
       "       [13.97999954],\n",
       "       [14.47999954],\n",
       "       [15.22000027]])"
      ]
     },
     "execution_count": 20,
     "metadata": {},
     "output_type": "execute_result"
    }
   ],
   "source": [
    "x_future = np.array(x_future)\n",
    "x_future"
   ]
  },
  {
   "cell_type": "code",
   "execution_count": 21,
   "id": "cbe45b8e",
   "metadata": {},
   "outputs": [],
   "source": [
    "tree_prediction = tree.predict(x_future)"
   ]
  },
  {
   "cell_type": "code",
   "execution_count": 22,
   "id": "7b606258",
   "metadata": {},
   "outputs": [
    {
     "name": "stdout",
     "output_type": "stream",
     "text": [
      "[14.81500006 14.61999989 14.27000046 14.06000042 13.23999977 12.53999996\n",
      " 13.06999969 13.90999985 12.73666668 13.68000031 14.61999989 12.73666668\n",
      " 13.81000042 13.60999966 12.15500021 13.05000019 13.47000027 13.27000046\n",
      " 11.74499989 13.71000004 12.98000002 13.77999973 13.71000004 13.48999977\n",
      " 12.98000002 12.56999969 11.74499989 11.98999977 11.38000011 11.61999989]\n"
     ]
    }
   ],
   "source": [
    "print(tree_prediction)"
   ]
  },
  {
   "cell_type": "code",
   "execution_count": 32,
   "id": "f25eed0e",
   "metadata": {},
   "outputs": [
    {
     "name": "stdout",
     "output_type": "stream",
     "text": [
      "[12.5422615  12.53290538 13.03812424 12.62646479 12.6732445  12.65453226\n",
      " 13.05683648 13.1971747  13.30944546 12.89778601 13.64625863 13.30944546\n",
      " 13.40300488 13.48720817 12.73873555 12.81358272 13.29073412 13.36558129\n",
      " 13.68368222 14.18890108 14.5444256  14.01113838 14.18890108 14.51635724\n",
      " 14.5444256  14.14212138 13.6743261  13.53398698 14.00178226 14.69411995]\n"
     ]
    }
   ],
   "source": [
    "lr_prediction = lr.predict(x_future)\n",
    "print(lr_prediction)"
   ]
  },
  {
   "cell_type": "code",
   "execution_count": 24,
   "id": "feb7cb66",
   "metadata": {},
   "outputs": [],
   "source": [
    "predictions = tree_prediction \n",
    "valid = close_price[X.shape[0]:]"
   ]
  },
  {
   "cell_type": "code",
   "execution_count": 25,
   "id": "590293cf",
   "metadata": {},
   "outputs": [
    {
     "name": "stderr",
     "output_type": "stream",
     "text": [
      "C:\\Users\\steve\\AppData\\Local\\Temp/ipykernel_22344/4170329595.py:1: SettingWithCopyWarning: \n",
      "A value is trying to be set on a copy of a slice from a DataFrame.\n",
      "Try using .loc[row_indexer,col_indexer] = value instead\n",
      "\n",
      "See the caveats in the documentation: https://pandas.pydata.org/pandas-docs/stable/user_guide/indexing.html#returning-a-view-versus-a-copy\n",
      "  valid['prediction'] = predictions\n"
     ]
    },
    {
     "data": {
      "image/png": "[encoded data removed]",
      "text/plain": [
       "<Figure size 1152x576 with 1 Axes>"
      ]
     },
     "metadata": {
      "needs_background": "light"
     },
     "output_type": "display_data"
    }
   ],
   "source": [
    "valid['prediction'] = predictions \n",
    "plt.figure(figsize=(16,8))\n",
    "plt.title('model')\n",
    "plt.xlabel('Days')\n",
    "plt.ylabel('close price USD')\n",
    "plt.plot(close_price['Close'])\n",
    "plt.plot(valid[['Close','prediction']])\n",
    "plt.legend(['Orig','Val','Pred'])\n",
    "plt.show()"
   ]
  },
  {
   "cell_type": "code",
   "execution_count": 26,
   "id": "d175e47c",
   "metadata": {},
   "outputs": [
    {
     "name": "stderr",
     "output_type": "stream",
     "text": [
      "C:\\Users\\steve\\AppData\\Local\\Temp/ipykernel_22344/4052443177.py:3: SettingWithCopyWarning: \n",
      "A value is trying to be set on a copy of a slice from a DataFrame.\n",
      "Try using .loc[row_indexer,col_indexer] = value instead\n",
      "\n",
      "See the caveats in the documentation: https://pandas.pydata.org/pandas-docs/stable/user_guide/indexing.html#returning-a-view-versus-a-copy\n",
      "  valid['prediction'] = predictions\n"
     ]
    },
    {
     "data": {
      "image/png": "[encoded data removed]",
      "text/plain": [
       "<Figure size 1152x576 with 1 Axes>"
      ]
     },
     "metadata": {
      "needs_background": "light"
     },
     "output_type": "display_data"
    }
   ],
   "source": [
    "predictions = lr_prediction \n",
    "valid = close_price[X.shape[0]:]\n",
    "valid['prediction'] = predictions \n",
    "plt.figure(figsize=(16,8))\n",
    "plt.title('model')\n",
    "plt.xlabel('Days')\n",
    "plt.ylabel('close price USD')\n",
    "plt.plot(close_price['Close'])\n",
    "plt.plot(valid[['Close','prediction']])\n",
    "plt.legend(['Orig','Val','Pred'])\n",
    "plt.show()"
   ]
  },
  {
   "cell_type": "code",
   "execution_count": 33,
   "id": "f2f2307f",
   "metadata": {},
   "outputs": [],
   "source": [
    "import yfinance as yf"
   ]
  },
  {
   "cell_type": "code",
   "execution_count": 34,
   "id": "b0cb40f7",
   "metadata": {},
   "outputs": [],
   "source": [
    "tickers3 = ['AR']"
   ]
  },
  {
   "cell_type": "code",
   "execution_count": 44,
   "id": "9ef7fc92",
   "metadata": {},
   "outputs": [
    {
     "data": {
      "text/plain": [
       "{'zip': '80202',\n",
       " 'sector': 'Energy',\n",
       " 'fullTimeEmployees': 504,\n",
       " 'longBusinessSummary': 'Antero Resources Corporation, an independent oil and natural gas company, acquires, explores for, develops, and produces natural gas, natural gas liquids, and oil properties in the United States. As of December 31, 2019, the company had approximately 451,000 net acres in the southwestern core of the Marcellus Shale; and 91,000 net acres in the core of the Utica Shale. It also owned and operated 324 miles of gas gathering pipelines in the Marcellus Shale; 17 compressor stations in the Marcellus Shale; 110 miles of low-pressure and high-pressure gathering pipelines in the Utica Shale; 8 miles of high-pressure pipelines; and 2 compressor stations in the Utica Shale. The company had estimated proved reserves of 18.9 trillion cubic feet of natural gas equivalent, including 11.5 trillion cubic feet of natural gas; 652 million barrels of assumed recovered ethane; 540 million barrels of primarily propane, isobutane, normal butane, and natural gasoline; and 42 million barrels of oil. The company was formerly known as Antero Resources Appalachian Corporation and changed its name to Antero Resources Corporation in June 2013. Antero Resources Corporation was founded in 2002 and is headquartered in Denver, Colorado.',\n",
       " 'city': 'Denver',\n",
       " 'phone': '303 357 7310',\n",
       " 'state': 'CO',\n",
       " 'country': 'United States',\n",
       " 'companyOfficers': [],\n",
       " 'website': 'http://www.anteroresources.com',\n",
       " 'maxAge': 1,\n",
       " 'address1': '1615 Wynkoop Street',\n",
       " 'fax': '303 357 7315',\n",
       " 'industry': 'Oil & Gas E&P',\n",
       " 'ebitdaMargins': -0.038900003,\n",
       " 'profitMargins': -0.21508,\n",
       " 'grossMargins': 0.60219,\n",
       " 'operatingCashflow': 1291271936,\n",
       " 'revenueGrowth': 1.003,\n",
       " 'operatingMargins': -0.24728,\n",
       " 'ebitda': -181750000,\n",
       " 'targetLowPrice': 15,\n",
       " 'recommendationKey': 'buy',\n",
       " 'grossProfits': 1689613000,\n",
       " 'freeCashflow': 842878144,\n",
       " 'targetMedianPrice': 18,\n",
       " 'currentPrice': 17.61,\n",
       " 'earningsGrowth': None,\n",
       " 'currentRatio': 0.292,\n",
       " 'returnOnAssets': -0.0543,\n",
       " 'numberOfAnalystOpinions': 15,\n",
       " 'targetMeanPrice': 18.55,\n",
       " 'debtToEquity': 85.725,\n",
       " 'returnOnEquity': -0.16525999,\n",
       " 'targetHighPrice': 23,\n",
       " 'totalCash': 4541000,\n",
       " 'totalDebt': 4902110208,\n",
       " 'totalRevenue': 4671520768,\n",
       " 'totalCashPerShare': 0.014,\n",
       " 'financialCurrency': 'USD',\n",
       " 'revenuePerShare': 16.365,\n",
       " 'quickRatio': 0.284,\n",
       " 'recommendationMean': 2.3,\n",
       " 'exchange': 'NYQ',\n",
       " 'shortName': 'Antero Resources Corporation',\n",
       " 'longName': 'Antero Resources Corporation',\n",
       " 'exchangeTimezoneName': 'America/New_York',\n",
       " 'exchangeTimezoneShortName': 'EDT',\n",
       " 'isEsgPopulated': False,\n",
       " 'gmtOffSetMilliseconds': '-14400000',\n",
       " 'quoteType': 'EQUITY',\n",
       " 'symbol': 'AR',\n",
       " 'messageBoardId': 'finmb_4544094',\n",
       " 'market': 'us_market',\n",
       " 'annualHoldingsTurnover': None,\n",
       " 'enterpriseToRevenue': 2.316,\n",
       " 'beta3Year': None,\n",
       " 'enterpriseToEbitda': -59.538,\n",
       " '52WeekChange': 5.0304055,\n",
       " 'morningStarRiskRating': None,\n",
       " 'forwardEps': 1.86,\n",
       " 'revenueQuarterlyGrowth': None,\n",
       " 'sharesOutstanding': 313864992,\n",
       " 'fundInceptionDate': None,\n",
       " 'annualReportExpenseRatio': None,\n",
       " 'totalAssets': None,\n",
       " 'bookValue': 17.215,\n",
       " 'sharesShort': 23489127,\n",
       " 'sharesPercentSharesOut': 0.0748,\n",
       " 'fundFamily': None,\n",
       " 'lastFiscalYearEnd': 1609372800,\n",
       " 'heldPercentInstitutions': 0.76396006,\n",
       " 'netIncomeToCommon': -1004748992,\n",
       " 'trailingEps': -3.52,\n",
       " 'lastDividendValue': None,\n",
       " 'SandP52WeekChange': 0.32741976,\n",
       " 'priceToBook': 1.0229452,\n",
       " 'heldPercentInsiders': 0.10566,\n",
       " 'nextFiscalYearEnd': 1672444800,\n",
       " 'yield': None,\n",
       " 'mostRecentQuarter': 1625011200,\n",
       " 'shortRatio': 3.81,\n",
       " 'sharesShortPreviousMonthDate': 1627603200,\n",
       " 'floatShares': 287732526,\n",
       " 'beta': 4.766375,\n",
       " 'enterpriseValue': 10821006336,\n",
       " 'priceHint': 2,\n",
       " 'threeYearAverageReturn': None,\n",
       " 'lastSplitDate': None,\n",
       " 'lastSplitFactor': None,\n",
       " 'legalType': None,\n",
       " 'lastDividendDate': None,\n",
       " 'morningStarOverallRating': None,\n",
       " 'earningsQuarterlyGrowth': None,\n",
       " 'priceToSalesTrailing12Months': 1.1831614,\n",
       " 'dateShortInterest': 1630368000,\n",
       " 'pegRatio': -0.31,\n",
       " 'ytdReturn': None,\n",
       " 'forwardPE': 9.467742,\n",
       " 'lastCapGain': None,\n",
       " 'shortPercentOfFloat': 0.0834,\n",
       " 'sharesShortPriorMonth': 22637825,\n",
       " 'impliedSharesOutstanding': None,\n",
       " 'category': None,\n",
       " 'fiveYearAverageReturn': None,\n",
       " 'previousClose': 17.85,\n",
       " 'regularMarketOpen': 17.6,\n",
       " 'twoHundredDayAverage': 12.588921,\n",
       " 'trailingAnnualDividendYield': None,\n",
       " 'payoutRatio': 0,\n",
       " 'volume24Hr': None,\n",
       " 'regularMarketDayHigh': 18.19,\n",
       " 'navPrice': None,\n",
       " 'averageDailyVolume10Day': 6490971,\n",
       " 'regularMarketPreviousClose': 17.85,\n",
       " 'fiftyDayAverage': 14.533236,\n",
       " 'trailingAnnualDividendRate': None,\n",
       " 'open': 17.6,\n",
       " 'toCurrency': None,\n",
       " 'averageVolume10days': 6490971,\n",
       " 'expireDate': None,\n",
       " 'algorithm': None,\n",
       " 'dividendRate': None,\n",
       " 'exDividendDate': None,\n",
       " 'circulatingSupply': None,\n",
       " 'startDate': None,\n",
       " 'regularMarketDayLow': 17.51,\n",
       " 'currency': 'USD',\n",
       " 'regularMarketVolume': 5718031,\n",
       " 'lastMarket': None,\n",
       " 'maxSupply': None,\n",
       " 'openInterest': None,\n",
       " 'marketCap': 5527162880,\n",
       " 'volumeAllCurrencies': None,\n",
       " 'strikePrice': None,\n",
       " 'averageVolume': 6464230,\n",
       " 'dayLow': 17.51,\n",
       " 'ask': 17.67,\n",
       " 'askSize': 1800,\n",
       " 'volume': 5718031,\n",
       " 'fiftyTwoWeekHigh': 18.19,\n",
       " 'fromCurrency': None,\n",
       " 'fiveYearAvgDividendYield': None,\n",
       " 'fiftyTwoWeekLow': 2.56,\n",
       " 'bid': 17.65,\n",
       " 'tradeable': False,\n",
       " 'dividendYield': None,\n",
       " 'bidSize': 2200,\n",
       " 'dayHigh': 18.19,\n",
       " 'regularMarketPrice': 17.61,\n",
       " 'logo_url': 'https://logo.clearbit.com/anteroresources.com'}"
      ]
     },
     "execution_count": 44,
     "metadata": {},
     "output_type": "execute_result"
    }
   ],
   "source": [
    "ar = yf.Ticker(\"AR\")\n",
    "ar.info"
   ]
  },
  {
   "cell_type": "code",
   "execution_count": 43,
   "id": "2398778d",
   "metadata": {},
   "outputs": [
    {
     "data": {
      "text/plain": [
       "'Antero Resources Corporation, an independent oil and natural gas company, acquires, explores for, develops, and produces natural gas, natural gas liquids, and oil properties in the United States. As of December 31, 2019, the company had approximately 451,000 net acres in the southwestern core of the Marcellus Shale; and 91,000 net acres in the core of the Utica Shale. It also owned and operated 324 miles of gas gathering pipelines in the Marcellus Shale; 17 compressor stations in the Marcellus Shale; 110 miles of low-pressure and high-pressure gathering pipelines in the Utica Shale; 8 miles of high-pressure pipelines; and 2 compressor stations in the Utica Shale. The company had estimated proved reserves of 18.9 trillion cubic feet of natural gas equivalent, including 11.5 trillion cubic feet of natural gas; 652 million barrels of assumed recovered ethane; 540 million barrels of primarily propane, isobutane, normal butane, and natural gasoline; and 42 million barrels of oil. The company was formerly known as Antero Resources Appalachian Corporation and changed its name to Antero Resources Corporation in June 2013. Antero Resources Corporation was founded in 2002 and is headquartered in Denver, Colorado.'"
      ]
     },
     "execution_count": 43,
     "metadata": {},
     "output_type": "execute_result"
    }
   ],
   "source": [
    "ar.info[\"longBusinessSummary\"]"
   ]
  },
  {
   "cell_type": "markdown",
   "id": "66cebce6",
   "metadata": {},
   "source": [
    "'Antero Resources Corporation, an independent oil and natural gas company, acquires, explores for, develops, and produces natural gas, natural gas liquids, and oil properties in the United States. As of December 31, 2019, the company had approximately 451,000 net acres in the southwestern core of the Marcellus Shale; and 91,000 net acres in the core of the Utica Shale. It also owned and operated 324 miles of gas gathering pipelines in the Marcellus Shale; 17 compressor stations in the Marcellus Shale; 110 miles of low-pressure and high-pressure gathering pipelines in the Utica Shale; 8 miles of high-pressure pipelines; and 2 compressor stations in the Utica Shale. The company had estimated proved reserves of 18.9 trillion cubic feet of natural gas equivalent, including 11.5 trillion cubic feet of natural gas; 652 million barrels of assumed recovered ethane; 540 million barrels of primarily propane, isobutane, normal butane, and natural gasoline; and 42 million barrels of oil. The company was formerly known as Antero Resources Appalachian Corporation and changed its name to Antero Resources Corporation in June 2013. Antero Resources Corporation was founded in 2002 and is headquartered in Denver, Colorado.'"
   ]
  },
  {
   "cell_type": "code",
   "execution_count": 45,
   "id": "1ced58fb",
   "metadata": {},
   "outputs": [
    {
     "data": {
      "text/html": [
       "<div>\n",
       "<style scoped>\n",
       "    .dataframe tbody tr th:only-of-type {\n",
       "        vertical-align: middle;\n",
       "    }\n",
       "\n",
       "    .dataframe tbody tr th {\n",
       "        vertical-align: top;\n",
       "    }\n",
       "\n",
       "    .dataframe thead th {\n",
       "        text-align: right;\n",
       "    }\n",
       "</style>\n",
       "<table border=\"1\" class=\"dataframe\">\n",
       "  <thead>\n",
       "    <tr style=\"text-align: right;\">\n",
       "      <th></th>\n",
       "      <th>0</th>\n",
       "      <th>1</th>\n",
       "    </tr>\n",
       "  </thead>\n",
       "  <tbody>\n",
       "    <tr>\n",
       "      <th>0</th>\n",
       "      <td>10.57%</td>\n",
       "      <td>% of Shares Held by All Insider</td>\n",
       "    </tr>\n",
       "    <tr>\n",
       "      <th>1</th>\n",
       "      <td>76.40%</td>\n",
       "      <td>% of Shares Held by Institutions</td>\n",
       "    </tr>\n",
       "    <tr>\n",
       "      <th>2</th>\n",
       "      <td>85.42%</td>\n",
       "      <td>% of Float Held by Institutions</td>\n",
       "    </tr>\n",
       "    <tr>\n",
       "      <th>3</th>\n",
       "      <td>336</td>\n",
       "      <td>Number of Institutions Holding Shares</td>\n",
       "    </tr>\n",
       "  </tbody>\n",
       "</table>\n",
       "</div>"
      ],
      "text/plain": [
       "        0                                      1\n",
       "0  10.57%        % of Shares Held by All Insider\n",
       "1  76.40%       % of Shares Held by Institutions\n",
       "2  85.42%        % of Float Held by Institutions\n",
       "3     336  Number of Institutions Holding Shares"
      ]
     },
     "execution_count": 45,
     "metadata": {},
     "output_type": "execute_result"
    }
   ],
   "source": [
    "ar.major_holders"
   ]
  },
  {
   "cell_type": "code",
   "execution_count": 47,
   "id": "cd50f4ca",
   "metadata": {},
   "outputs": [
    {
     "data": {
      "text/html": [
       "<div>\n",
       "<style scoped>\n",
       "    .dataframe tbody tr th:only-of-type {\n",
       "        vertical-align: middle;\n",
       "    }\n",
       "\n",
       "    .dataframe tbody tr th {\n",
       "        vertical-align: top;\n",
       "    }\n",
       "\n",
       "    .dataframe thead th {\n",
       "        text-align: right;\n",
       "    }\n",
       "</style>\n",
       "<table border=\"1\" class=\"dataframe\">\n",
       "  <thead>\n",
       "    <tr style=\"text-align: right;\">\n",
       "      <th></th>\n",
       "      <th>Holder</th>\n",
       "      <th>Shares</th>\n",
       "      <th>Date Reported</th>\n",
       "      <th>% Out</th>\n",
       "      <th>Value</th>\n",
       "    </tr>\n",
       "  </thead>\n",
       "  <tbody>\n",
       "    <tr>\n",
       "      <th>0</th>\n",
       "      <td>Vanguard Group, Inc. (The)</td>\n",
       "      <td>25013326</td>\n",
       "      <td>2021-06-29</td>\n",
       "      <td>0.0797</td>\n",
       "      <td>375950289</td>\n",
       "    </tr>\n",
       "    <tr>\n",
       "      <th>1</th>\n",
       "      <td>Blackrock Inc.</td>\n",
       "      <td>22218324</td>\n",
       "      <td>2021-06-29</td>\n",
       "      <td>0.0708</td>\n",
       "      <td>333941409</td>\n",
       "    </tr>\n",
       "    <tr>\n",
       "      <th>2</th>\n",
       "      <td>FMR, LLC</td>\n",
       "      <td>16641527</td>\n",
       "      <td>2021-06-29</td>\n",
       "      <td>0.0530</td>\n",
       "      <td>250122150</td>\n",
       "    </tr>\n",
       "    <tr>\n",
       "      <th>3</th>\n",
       "      <td>State Street Corporation</td>\n",
       "      <td>13279355</td>\n",
       "      <td>2021-06-29</td>\n",
       "      <td>0.0423</td>\n",
       "      <td>199588705</td>\n",
       "    </tr>\n",
       "    <tr>\n",
       "      <th>4</th>\n",
       "      <td>Dimensional Fund Advisors LP</td>\n",
       "      <td>11405981</td>\n",
       "      <td>2021-06-29</td>\n",
       "      <td>0.0363</td>\n",
       "      <td>171431894</td>\n",
       "    </tr>\n",
       "    <tr>\n",
       "      <th>5</th>\n",
       "      <td>Yorktown Energy Partners VIII, L.P.</td>\n",
       "      <td>9382570</td>\n",
       "      <td>2021-06-29</td>\n",
       "      <td>0.0299</td>\n",
       "      <td>141020027</td>\n",
       "    </tr>\n",
       "    <tr>\n",
       "      <th>6</th>\n",
       "      <td>SailingStone Capital Partners LLC</td>\n",
       "      <td>9289328</td>\n",
       "      <td>2021-06-29</td>\n",
       "      <td>0.0296</td>\n",
       "      <td>139618599</td>\n",
       "    </tr>\n",
       "    <tr>\n",
       "      <th>7</th>\n",
       "      <td>Graham Capital Management, L.P.</td>\n",
       "      <td>7535078</td>\n",
       "      <td>2021-06-29</td>\n",
       "      <td>0.0240</td>\n",
       "      <td>113252222</td>\n",
       "    </tr>\n",
       "    <tr>\n",
       "      <th>8</th>\n",
       "      <td>FPR Partners, LLC</td>\n",
       "      <td>6937559</td>\n",
       "      <td>2021-06-29</td>\n",
       "      <td>0.0221</td>\n",
       "      <td>104271511</td>\n",
       "    </tr>\n",
       "    <tr>\n",
       "      <th>9</th>\n",
       "      <td>Goldman Sachs Group, Inc.</td>\n",
       "      <td>6590353</td>\n",
       "      <td>2021-06-29</td>\n",
       "      <td>0.0210</td>\n",
       "      <td>99053005</td>\n",
       "    </tr>\n",
       "  </tbody>\n",
       "</table>\n",
       "</div>"
      ],
      "text/plain": [
       "                                Holder    Shares Date Reported   % Out  \\\n",
       "0           Vanguard Group, Inc. (The)  25013326    2021-06-29  0.0797   \n",
       "1                       Blackrock Inc.  22218324    2021-06-29  0.0708   \n",
       "2                             FMR, LLC  16641527    2021-06-29  0.0530   \n",
       "3             State Street Corporation  13279355    2021-06-29  0.0423   \n",
       "4         Dimensional Fund Advisors LP  11405981    2021-06-29  0.0363   \n",
       "5  Yorktown Energy Partners VIII, L.P.   9382570    2021-06-29  0.0299   \n",
       "6    SailingStone Capital Partners LLC   9289328    2021-06-29  0.0296   \n",
       "7      Graham Capital Management, L.P.   7535078    2021-06-29  0.0240   \n",
       "8                    FPR Partners, LLC   6937559    2021-06-29  0.0221   \n",
       "9            Goldman Sachs Group, Inc.   6590353    2021-06-29  0.0210   \n",
       "\n",
       "       Value  \n",
       "0  375950289  \n",
       "1  333941409  \n",
       "2  250122150  \n",
       "3  199588705  \n",
       "4  171431894  \n",
       "5  141020027  \n",
       "6  139618599  \n",
       "7  113252222  \n",
       "8  104271511  \n",
       "9   99053005  "
      ]
     },
     "execution_count": 47,
     "metadata": {},
     "output_type": "execute_result"
    }
   ],
   "source": [
    "ar.institutional_holders"
   ]
  },
  {
   "cell_type": "code",
   "execution_count": 49,
   "id": "c1e7d79a",
   "metadata": {},
   "outputs": [
    {
     "data": {
      "text/html": [
       "<div>\n",
       "<style scoped>\n",
       "    .dataframe tbody tr th:only-of-type {\n",
       "        vertical-align: middle;\n",
       "    }\n",
       "\n",
       "    .dataframe tbody tr th {\n",
       "        vertical-align: top;\n",
       "    }\n",
       "\n",
       "    .dataframe thead th {\n",
       "        text-align: right;\n",
       "    }\n",
       "</style>\n",
       "<table border=\"1\" class=\"dataframe\">\n",
       "  <thead>\n",
       "    <tr style=\"text-align: right;\">\n",
       "      <th></th>\n",
       "      <th>Value</th>\n",
       "    </tr>\n",
       "    <tr>\n",
       "      <th>2021-9</th>\n",
       "      <th></th>\n",
       "    </tr>\n",
       "  </thead>\n",
       "  <tbody>\n",
       "    <tr>\n",
       "      <th>palmOil</th>\n",
       "      <td>False</td>\n",
       "    </tr>\n",
       "    <tr>\n",
       "      <th>controversialWeapons</th>\n",
       "      <td>False</td>\n",
       "    </tr>\n",
       "    <tr>\n",
       "      <th>gambling</th>\n",
       "      <td>False</td>\n",
       "    </tr>\n",
       "    <tr>\n",
       "      <th>socialScore</th>\n",
       "      <td>13.29</td>\n",
       "    </tr>\n",
       "    <tr>\n",
       "      <th>nuclear</th>\n",
       "      <td>False</td>\n",
       "    </tr>\n",
       "    <tr>\n",
       "      <th>furLeather</th>\n",
       "      <td>False</td>\n",
       "    </tr>\n",
       "    <tr>\n",
       "      <th>alcoholic</th>\n",
       "      <td>False</td>\n",
       "    </tr>\n",
       "    <tr>\n",
       "      <th>gmo</th>\n",
       "      <td>False</td>\n",
       "    </tr>\n",
       "    <tr>\n",
       "      <th>catholic</th>\n",
       "      <td>False</td>\n",
       "    </tr>\n",
       "    <tr>\n",
       "      <th>socialPercentile</th>\n",
       "      <td>None</td>\n",
       "    </tr>\n",
       "    <tr>\n",
       "      <th>peerCount</th>\n",
       "      <td>64</td>\n",
       "    </tr>\n",
       "    <tr>\n",
       "      <th>governanceScore</th>\n",
       "      <td>9.69</td>\n",
       "    </tr>\n",
       "    <tr>\n",
       "      <th>environmentPercentile</th>\n",
       "      <td>None</td>\n",
       "    </tr>\n",
       "    <tr>\n",
       "      <th>animalTesting</th>\n",
       "      <td>False</td>\n",
       "    </tr>\n",
       "    <tr>\n",
       "      <th>tobacco</th>\n",
       "      <td>False</td>\n",
       "    </tr>\n",
       "    <tr>\n",
       "      <th>totalEsg</th>\n",
       "      <td>45.72</td>\n",
       "    </tr>\n",
       "    <tr>\n",
       "      <th>highestControversy</th>\n",
       "      <td>2</td>\n",
       "    </tr>\n",
       "    <tr>\n",
       "      <th>esgPerformance</th>\n",
       "      <td>LEAD_PERF</td>\n",
       "    </tr>\n",
       "    <tr>\n",
       "      <th>coal</th>\n",
       "      <td>False</td>\n",
       "    </tr>\n",
       "    <tr>\n",
       "      <th>pesticides</th>\n",
       "      <td>False</td>\n",
       "    </tr>\n",
       "    <tr>\n",
       "      <th>adult</th>\n",
       "      <td>False</td>\n",
       "    </tr>\n",
       "    <tr>\n",
       "      <th>percentile</th>\n",
       "      <td>94.35</td>\n",
       "    </tr>\n",
       "    <tr>\n",
       "      <th>peerGroup</th>\n",
       "      <td>Oil &amp; Gas Producers</td>\n",
       "    </tr>\n",
       "    <tr>\n",
       "      <th>smallArms</th>\n",
       "      <td>False</td>\n",
       "    </tr>\n",
       "    <tr>\n",
       "      <th>environmentScore</th>\n",
       "      <td>22.74</td>\n",
       "    </tr>\n",
       "    <tr>\n",
       "      <th>governancePercentile</th>\n",
       "      <td>None</td>\n",
       "    </tr>\n",
       "    <tr>\n",
       "      <th>militaryContract</th>\n",
       "      <td>False</td>\n",
       "    </tr>\n",
       "  </tbody>\n",
       "</table>\n",
       "</div>"
      ],
      "text/plain": [
       "                                     Value\n",
       "2021-9                                    \n",
       "palmOil                              False\n",
       "controversialWeapons                 False\n",
       "gambling                             False\n",
       "socialScore                          13.29\n",
       "nuclear                              False\n",
       "furLeather                           False\n",
       "alcoholic                            False\n",
       "gmo                                  False\n",
       "catholic                             False\n",
       "socialPercentile                      None\n",
       "peerCount                               64\n",
       "governanceScore                       9.69\n",
       "environmentPercentile                 None\n",
       "animalTesting                        False\n",
       "tobacco                              False\n",
       "totalEsg                             45.72\n",
       "highestControversy                       2\n",
       "esgPerformance                   LEAD_PERF\n",
       "coal                                 False\n",
       "pesticides                           False\n",
       "adult                                False\n",
       "percentile                           94.35\n",
       "peerGroup              Oil & Gas Producers\n",
       "smallArms                            False\n",
       "environmentScore                     22.74\n",
       "governancePercentile                  None\n",
       "militaryContract                     False"
      ]
     },
     "execution_count": 49,
     "metadata": {},
     "output_type": "execute_result"
    }
   ],
   "source": [
    "ar.sustainability"
   ]
  },
  {
   "cell_type": "code",
   "execution_count": 53,
   "id": "188b1486",
   "metadata": {},
   "outputs": [
    {
     "data": {
      "text/plain": [
       "'Microsoft Corporation develops, licenses, and supports software, services, devices, and solutions worldwide. Its Productivity and Business Processes segment offers Office, Exchange, SharePoint, Microsoft Teams, Office 365 Security and Compliance, and Skype for Business, as well as related Client Access Licenses (CAL); Skype, Outlook.com, OneDrive, and LinkedIn; and Dynamics 365, a set of cloud-based and on-premises business solutions for organizations and enterprise divisions. Its Intelligent Cloud segment licenses SQL, Windows Servers, Visual Studio, System Center, and related CALs; GitHub that provides a collaboration platform and code hosting service for developers; and Azure, a cloud platform. It also offers support services and Microsoft consulting services to assist customers in developing, deploying, and managing Microsoft server and desktop solutions; and training and certification on Microsoft products. Its More Personal Computing segment provides Windows original equipment manufacturer (OEM) licensing and other non-volume licensing of the Windows operating system; Windows Commercial, such as volume licensing of the Windows operating system, Windows cloud services, and other Windows commercial offerings; patent licensing; Windows Internet of Things; and MSN advertising. It also offers Surface, PC accessories, PCs, tablets, gaming and entertainment consoles, and other devices; Gaming, including Xbox hardware, and Xbox content and services; video games and third-party video game royalties; and Search, including Bing and Microsoft advertising. It sells its products through OEMs, distributors, and resellers; and directly through digital marketplaces, online stores, and retail stores. It has collaborations with Dynatrace, Inc., Morgan Stanley, Micro Focus, WPP plc, ACI Worldwide, Inc., and iCIMS, Inc., as well as a strategic relationship with Avaya Holdings Corp. Microsoft Corporation was founded in 1975 and is headquartered in Redmond, Washington.'"
      ]
     },
     "execution_count": 53,
     "metadata": {},
     "output_type": "execute_result"
    }
   ],
   "source": [
    "msft = yf.Ticker(\"MSFT\")\n",
    "msft.info[\"longBusinessSummary\"]"
   ]
  },
  {
   "cell_type": "code",
   "execution_count": 54,
   "id": "62e0e4f9",
   "metadata": {},
   "outputs": [
    {
     "data": {
      "text/html": [
       "<div>\n",
       "<style scoped>\n",
       "    .dataframe tbody tr th:only-of-type {\n",
       "        vertical-align: middle;\n",
       "    }\n",
       "\n",
       "    .dataframe tbody tr th {\n",
       "        vertical-align: top;\n",
       "    }\n",
       "\n",
       "    .dataframe thead th {\n",
       "        text-align: right;\n",
       "    }\n",
       "</style>\n",
       "<table border=\"1\" class=\"dataframe\">\n",
       "  <thead>\n",
       "    <tr style=\"text-align: right;\">\n",
       "      <th></th>\n",
       "      <th>Holder</th>\n",
       "      <th>Shares</th>\n",
       "      <th>Date Reported</th>\n",
       "      <th>% Out</th>\n",
       "      <th>Value</th>\n",
       "    </tr>\n",
       "  </thead>\n",
       "  <tbody>\n",
       "    <tr>\n",
       "      <th>0</th>\n",
       "      <td>Vanguard Group, Inc. (The)</td>\n",
       "      <td>610974647</td>\n",
       "      <td>2021-06-29</td>\n",
       "      <td>0.0813</td>\n",
       "      <td>165513031872</td>\n",
       "    </tr>\n",
       "    <tr>\n",
       "      <th>1</th>\n",
       "      <td>Blackrock Inc.</td>\n",
       "      <td>505662500</td>\n",
       "      <td>2021-06-29</td>\n",
       "      <td>0.0673</td>\n",
       "      <td>136983971250</td>\n",
       "    </tr>\n",
       "    <tr>\n",
       "      <th>2</th>\n",
       "      <td>State Street Corporation</td>\n",
       "      <td>294824958</td>\n",
       "      <td>2021-06-29</td>\n",
       "      <td>0.0392</td>\n",
       "      <td>79868081122</td>\n",
       "    </tr>\n",
       "    <tr>\n",
       "      <th>3</th>\n",
       "      <td>FMR, LLC</td>\n",
       "      <td>218007132</td>\n",
       "      <td>2021-06-29</td>\n",
       "      <td>0.0290</td>\n",
       "      <td>59058132058</td>\n",
       "    </tr>\n",
       "    <tr>\n",
       "      <th>4</th>\n",
       "      <td>Price (T.Rowe) Associates Inc</td>\n",
       "      <td>192408922</td>\n",
       "      <td>2021-06-29</td>\n",
       "      <td>0.0256</td>\n",
       "      <td>52123576969</td>\n",
       "    </tr>\n",
       "    <tr>\n",
       "      <th>5</th>\n",
       "      <td>Geode Capital Management, LLC</td>\n",
       "      <td>123322145</td>\n",
       "      <td>2021-06-29</td>\n",
       "      <td>0.0164</td>\n",
       "      <td>33407969080</td>\n",
       "    </tr>\n",
       "    <tr>\n",
       "      <th>6</th>\n",
       "      <td>Capital World Investors</td>\n",
       "      <td>110830050</td>\n",
       "      <td>2021-06-29</td>\n",
       "      <td>0.0147</td>\n",
       "      <td>30023860545</td>\n",
       "    </tr>\n",
       "    <tr>\n",
       "      <th>7</th>\n",
       "      <td>Capital Research Global Investors</td>\n",
       "      <td>94576657</td>\n",
       "      <td>2021-06-29</td>\n",
       "      <td>0.0126</td>\n",
       "      <td>25620816381</td>\n",
       "    </tr>\n",
       "    <tr>\n",
       "      <th>8</th>\n",
       "      <td>Capital International Investors</td>\n",
       "      <td>92898047</td>\n",
       "      <td>2021-06-29</td>\n",
       "      <td>0.0124</td>\n",
       "      <td>25166080932</td>\n",
       "    </tr>\n",
       "    <tr>\n",
       "      <th>9</th>\n",
       "      <td>Northern Trust Corporation</td>\n",
       "      <td>88583941</td>\n",
       "      <td>2021-06-29</td>\n",
       "      <td>0.0118</td>\n",
       "      <td>23997389616</td>\n",
       "    </tr>\n",
       "  </tbody>\n",
       "</table>\n",
       "</div>"
      ],
      "text/plain": [
       "                              Holder     Shares Date Reported   % Out  \\\n",
       "0         Vanguard Group, Inc. (The)  610974647    2021-06-29  0.0813   \n",
       "1                     Blackrock Inc.  505662500    2021-06-29  0.0673   \n",
       "2           State Street Corporation  294824958    2021-06-29  0.0392   \n",
       "3                           FMR, LLC  218007132    2021-06-29  0.0290   \n",
       "4      Price (T.Rowe) Associates Inc  192408922    2021-06-29  0.0256   \n",
       "5      Geode Capital Management, LLC  123322145    2021-06-29  0.0164   \n",
       "6            Capital World Investors  110830050    2021-06-29  0.0147   \n",
       "7  Capital Research Global Investors   94576657    2021-06-29  0.0126   \n",
       "8    Capital International Investors   92898047    2021-06-29  0.0124   \n",
       "9         Northern Trust Corporation   88583941    2021-06-29  0.0118   \n",
       "\n",
       "          Value  \n",
       "0  165513031872  \n",
       "1  136983971250  \n",
       "2   79868081122  \n",
       "3   59058132058  \n",
       "4   52123576969  \n",
       "5   33407969080  \n",
       "6   30023860545  \n",
       "7   25620816381  \n",
       "8   25166080932  \n",
       "9   23997389616  "
      ]
     },
     "execution_count": 54,
     "metadata": {},
     "output_type": "execute_result"
    }
   ],
   "source": [
    "msft.institutional_holders"
   ]
  },
  {
   "cell_type": "code",
   "execution_count": null,
   "id": "dc60852a",
   "metadata": {},
   "outputs": [],
   "source": []
  }
 ],
 "metadata": {
  "kernelspec": {
   "display_name": "Python 3 (ipykernel)",
   "language": "python",
   "name": "python3"
  },
  "language_info": {
   "codemirror_mode": {
    "name": "ipython",
    "version": 3
   },
   "file_extension": ".py",
   "mimetype": "text/x-python",
   "name": "python",
   "nbconvert_exporter": "python",
   "pygments_lexer": "ipython3",
   "version": "3.9.1"
  }
 },
 "nbformat": 4,
 "nbformat_minor": 5
}
